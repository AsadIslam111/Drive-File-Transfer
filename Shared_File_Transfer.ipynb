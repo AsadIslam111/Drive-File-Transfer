{
  "nbformat": 4,
  "nbformat_minor": 0,
  "metadata": {
    "colab": {
      "provenance": []
    },
    "kernelspec": {
      "name": "python3",
      "display_name": "Python 3"
    },
    "language_info": {
      "name": "python"
    }
  },
  "cells": [
    {
      "cell_type": "code",
      "execution_count": null,
      "metadata": {
        "id": "t1TM40VvC-bT"
      },
      "outputs": [],
      "source": [
        "!sudo cp -v -r \"Shared File location\"/ \"Destination\" "
      ]
    }
  ]
}